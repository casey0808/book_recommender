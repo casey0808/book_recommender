{
 "cells": [
  {
   "cell_type": "code",
   "execution_count": 1,
   "metadata": {},
   "outputs": [
    {
     "data": {
      "text/html": [
       "<div>\n",
       "<style scoped>\n",
       "    .dataframe tbody tr th:only-of-type {\n",
       "        vertical-align: middle;\n",
       "    }\n",
       "\n",
       "    .dataframe tbody tr th {\n",
       "        vertical-align: top;\n",
       "    }\n",
       "\n",
       "    .dataframe thead th {\n",
       "        text-align: right;\n",
       "    }\n",
       "</style>\n",
       "<table border=\"1\" class=\"dataframe\">\n",
       "  <thead>\n",
       "    <tr style=\"text-align: right;\">\n",
       "      <th></th>\n",
       "      <th>id</th>\n",
       "      <th>book_id</th>\n",
       "      <th>best_book_id</th>\n",
       "      <th>work_id</th>\n",
       "      <th>books_count</th>\n",
       "      <th>isbn13</th>\n",
       "      <th>original_publication_year</th>\n",
       "      <th>average_rating</th>\n",
       "      <th>ratings_count</th>\n",
       "      <th>work_ratings_count</th>\n",
       "      <th>work_text_reviews_count</th>\n",
       "      <th>ratings_1</th>\n",
       "      <th>ratings_2</th>\n",
       "      <th>ratings_3</th>\n",
       "      <th>ratings_4</th>\n",
       "      <th>ratings_5</th>\n",
       "    </tr>\n",
       "  </thead>\n",
       "  <tbody>\n",
       "    <tr>\n",
       "      <th>count</th>\n",
       "      <td>10000.00000</td>\n",
       "      <td>1.000000e+04</td>\n",
       "      <td>1.000000e+04</td>\n",
       "      <td>1.000000e+04</td>\n",
       "      <td>10000.000000</td>\n",
       "      <td>9.415000e+03</td>\n",
       "      <td>9979.000000</td>\n",
       "      <td>10000.000000</td>\n",
       "      <td>1.000000e+04</td>\n",
       "      <td>1.000000e+04</td>\n",
       "      <td>10000.000000</td>\n",
       "      <td>10000.000000</td>\n",
       "      <td>10000.000000</td>\n",
       "      <td>10000.000000</td>\n",
       "      <td>1.000000e+04</td>\n",
       "      <td>1.000000e+04</td>\n",
       "    </tr>\n",
       "    <tr>\n",
       "      <th>mean</th>\n",
       "      <td>5000.50000</td>\n",
       "      <td>5.264697e+06</td>\n",
       "      <td>5.471214e+06</td>\n",
       "      <td>8.646183e+06</td>\n",
       "      <td>75.712700</td>\n",
       "      <td>9.754393e+12</td>\n",
       "      <td>1981.987674</td>\n",
       "      <td>4.002191</td>\n",
       "      <td>5.400124e+04</td>\n",
       "      <td>5.968732e+04</td>\n",
       "      <td>2919.955300</td>\n",
       "      <td>1345.040600</td>\n",
       "      <td>3110.885000</td>\n",
       "      <td>11475.893800</td>\n",
       "      <td>1.996570e+04</td>\n",
       "      <td>2.378981e+04</td>\n",
       "    </tr>\n",
       "    <tr>\n",
       "      <th>std</th>\n",
       "      <td>2886.89568</td>\n",
       "      <td>7.575462e+06</td>\n",
       "      <td>7.827330e+06</td>\n",
       "      <td>1.175106e+07</td>\n",
       "      <td>170.470728</td>\n",
       "      <td>4.428246e+11</td>\n",
       "      <td>152.576665</td>\n",
       "      <td>0.254427</td>\n",
       "      <td>1.573700e+05</td>\n",
       "      <td>1.678038e+05</td>\n",
       "      <td>6124.378132</td>\n",
       "      <td>6635.626263</td>\n",
       "      <td>9717.123578</td>\n",
       "      <td>28546.449183</td>\n",
       "      <td>5.144736e+04</td>\n",
       "      <td>7.976889e+04</td>\n",
       "    </tr>\n",
       "    <tr>\n",
       "      <th>min</th>\n",
       "      <td>1.00000</td>\n",
       "      <td>1.000000e+00</td>\n",
       "      <td>1.000000e+00</td>\n",
       "      <td>8.700000e+01</td>\n",
       "      <td>1.000000</td>\n",
       "      <td>1.951703e+08</td>\n",
       "      <td>-1750.000000</td>\n",
       "      <td>2.470000</td>\n",
       "      <td>2.716000e+03</td>\n",
       "      <td>5.510000e+03</td>\n",
       "      <td>3.000000</td>\n",
       "      <td>11.000000</td>\n",
       "      <td>30.000000</td>\n",
       "      <td>323.000000</td>\n",
       "      <td>7.500000e+02</td>\n",
       "      <td>7.540000e+02</td>\n",
       "    </tr>\n",
       "    <tr>\n",
       "      <th>25%</th>\n",
       "      <td>2500.75000</td>\n",
       "      <td>4.627575e+04</td>\n",
       "      <td>4.791175e+04</td>\n",
       "      <td>1.008841e+06</td>\n",
       "      <td>23.000000</td>\n",
       "      <td>9.780000e+12</td>\n",
       "      <td>1990.000000</td>\n",
       "      <td>3.850000</td>\n",
       "      <td>1.356875e+04</td>\n",
       "      <td>1.543875e+04</td>\n",
       "      <td>694.000000</td>\n",
       "      <td>196.000000</td>\n",
       "      <td>656.000000</td>\n",
       "      <td>3112.000000</td>\n",
       "      <td>5.405750e+03</td>\n",
       "      <td>5.334000e+03</td>\n",
       "    </tr>\n",
       "    <tr>\n",
       "      <th>50%</th>\n",
       "      <td>5000.50000</td>\n",
       "      <td>3.949655e+05</td>\n",
       "      <td>4.251235e+05</td>\n",
       "      <td>2.719524e+06</td>\n",
       "      <td>40.000000</td>\n",
       "      <td>9.780000e+12</td>\n",
       "      <td>2004.000000</td>\n",
       "      <td>4.020000</td>\n",
       "      <td>2.115550e+04</td>\n",
       "      <td>2.383250e+04</td>\n",
       "      <td>1402.000000</td>\n",
       "      <td>391.000000</td>\n",
       "      <td>1163.000000</td>\n",
       "      <td>4894.000000</td>\n",
       "      <td>8.269500e+03</td>\n",
       "      <td>8.836000e+03</td>\n",
       "    </tr>\n",
       "    <tr>\n",
       "      <th>75%</th>\n",
       "      <td>7500.25000</td>\n",
       "      <td>9.382225e+06</td>\n",
       "      <td>9.636112e+06</td>\n",
       "      <td>1.451775e+07</td>\n",
       "      <td>67.000000</td>\n",
       "      <td>9.780000e+12</td>\n",
       "      <td>2011.000000</td>\n",
       "      <td>4.180000</td>\n",
       "      <td>4.105350e+04</td>\n",
       "      <td>4.591500e+04</td>\n",
       "      <td>2744.250000</td>\n",
       "      <td>885.000000</td>\n",
       "      <td>2353.250000</td>\n",
       "      <td>9287.000000</td>\n",
       "      <td>1.602350e+04</td>\n",
       "      <td>1.730450e+04</td>\n",
       "    </tr>\n",
       "    <tr>\n",
       "      <th>max</th>\n",
       "      <td>10000.00000</td>\n",
       "      <td>3.328864e+07</td>\n",
       "      <td>3.553423e+07</td>\n",
       "      <td>5.639960e+07</td>\n",
       "      <td>3455.000000</td>\n",
       "      <td>9.790000e+12</td>\n",
       "      <td>2017.000000</td>\n",
       "      <td>4.820000</td>\n",
       "      <td>4.780653e+06</td>\n",
       "      <td>4.942365e+06</td>\n",
       "      <td>155254.000000</td>\n",
       "      <td>456191.000000</td>\n",
       "      <td>436802.000000</td>\n",
       "      <td>793319.000000</td>\n",
       "      <td>1.481305e+06</td>\n",
       "      <td>3.011543e+06</td>\n",
       "    </tr>\n",
       "  </tbody>\n",
       "</table>\n",
       "</div>"
      ],
      "text/plain": [
       "                id       book_id  best_book_id       work_id   books_count  \\\n",
       "count  10000.00000  1.000000e+04  1.000000e+04  1.000000e+04  10000.000000   \n",
       "mean    5000.50000  5.264697e+06  5.471214e+06  8.646183e+06     75.712700   \n",
       "std     2886.89568  7.575462e+06  7.827330e+06  1.175106e+07    170.470728   \n",
       "min        1.00000  1.000000e+00  1.000000e+00  8.700000e+01      1.000000   \n",
       "25%     2500.75000  4.627575e+04  4.791175e+04  1.008841e+06     23.000000   \n",
       "50%     5000.50000  3.949655e+05  4.251235e+05  2.719524e+06     40.000000   \n",
       "75%     7500.25000  9.382225e+06  9.636112e+06  1.451775e+07     67.000000   \n",
       "max    10000.00000  3.328864e+07  3.553423e+07  5.639960e+07   3455.000000   \n",
       "\n",
       "             isbn13  original_publication_year  average_rating  ratings_count  \\\n",
       "count  9.415000e+03                9979.000000    10000.000000   1.000000e+04   \n",
       "mean   9.754393e+12                1981.987674        4.002191   5.400124e+04   \n",
       "std    4.428246e+11                 152.576665        0.254427   1.573700e+05   \n",
       "min    1.951703e+08               -1750.000000        2.470000   2.716000e+03   \n",
       "25%    9.780000e+12                1990.000000        3.850000   1.356875e+04   \n",
       "50%    9.780000e+12                2004.000000        4.020000   2.115550e+04   \n",
       "75%    9.780000e+12                2011.000000        4.180000   4.105350e+04   \n",
       "max    9.790000e+12                2017.000000        4.820000   4.780653e+06   \n",
       "\n",
       "       work_ratings_count  work_text_reviews_count      ratings_1  \\\n",
       "count        1.000000e+04             10000.000000   10000.000000   \n",
       "mean         5.968732e+04              2919.955300    1345.040600   \n",
       "std          1.678038e+05              6124.378132    6635.626263   \n",
       "min          5.510000e+03                 3.000000      11.000000   \n",
       "25%          1.543875e+04               694.000000     196.000000   \n",
       "50%          2.383250e+04              1402.000000     391.000000   \n",
       "75%          4.591500e+04              2744.250000     885.000000   \n",
       "max          4.942365e+06            155254.000000  456191.000000   \n",
       "\n",
       "           ratings_2      ratings_3     ratings_4     ratings_5  \n",
       "count   10000.000000   10000.000000  1.000000e+04  1.000000e+04  \n",
       "mean     3110.885000   11475.893800  1.996570e+04  2.378981e+04  \n",
       "std      9717.123578   28546.449183  5.144736e+04  7.976889e+04  \n",
       "min        30.000000     323.000000  7.500000e+02  7.540000e+02  \n",
       "25%       656.000000    3112.000000  5.405750e+03  5.334000e+03  \n",
       "50%      1163.000000    4894.000000  8.269500e+03  8.836000e+03  \n",
       "75%      2353.250000    9287.000000  1.602350e+04  1.730450e+04  \n",
       "max    436802.000000  793319.000000  1.481305e+06  3.011543e+06  "
      ]
     },
     "execution_count": 1,
     "metadata": {},
     "output_type": "execute_result"
    }
   ],
   "source": [
    "import numpy as np\n",
    "import pandas as pd\n",
    "from sklearn.feature_extraction.text import TfidfVectorizer\n",
    "from sklearn.metrics.pairwise import linear_kernel\n",
    "\n",
    "books = pd.read_csv('books.csv', encoding = 'ISO-8859-1')\n",
    "books.describe()"
   ]
  },
  {
   "cell_type": "code",
   "execution_count": 2,
   "metadata": {},
   "outputs": [
    {
     "name": "stdout",
     "output_type": "stream",
     "text": [
      "(9661, 23)\n",
      "Index(['id', 'book_id', 'best_book_id', 'work_id', 'books_count', 'isbn',\n",
      "       'isbn13', 'authors', 'original_publication_year', 'original_title',\n",
      "       'title', 'language_code', 'average_rating', 'ratings_count',\n",
      "       'work_ratings_count', 'work_text_reviews_count', 'ratings_1',\n",
      "       'ratings_2', 'ratings_3', 'ratings_4', 'ratings_5', 'image_url',\n",
      "       'small_image_url'],\n",
      "      dtype='object')\n"
     ]
    }
   ],
   "source": [
    "books = books.loc[books['average_rating'] >= 3.5]\n",
    "\n",
    "print(books.shape)\n",
    "print(books.columns)"
   ]
  },
  {
   "cell_type": "code",
   "execution_count": 3,
   "metadata": {},
   "outputs": [],
   "source": [
    "#ratings = pd.read_csv('ratings.csv', encoding = 'ISO-8859-1')\n",
    "#ratings.head()"
   ]
  },
  {
   "cell_type": "code",
   "execution_count": 4,
   "metadata": {},
   "outputs": [
    {
     "data": {
      "text/html": [
       "<div>\n",
       "<style scoped>\n",
       "    .dataframe tbody tr th:only-of-type {\n",
       "        vertical-align: middle;\n",
       "    }\n",
       "\n",
       "    .dataframe tbody tr th {\n",
       "        vertical-align: top;\n",
       "    }\n",
       "\n",
       "    .dataframe thead th {\n",
       "        text-align: right;\n",
       "    }\n",
       "</style>\n",
       "<table border=\"1\" class=\"dataframe\">\n",
       "  <thead>\n",
       "    <tr style=\"text-align: right;\">\n",
       "      <th></th>\n",
       "      <th>goodreads_book_id</th>\n",
       "      <th>tag_id</th>\n",
       "      <th>count</th>\n",
       "    </tr>\n",
       "  </thead>\n",
       "  <tbody>\n",
       "    <tr>\n",
       "      <th>0</th>\n",
       "      <td>1</td>\n",
       "      <td>30574</td>\n",
       "      <td>167697</td>\n",
       "    </tr>\n",
       "    <tr>\n",
       "      <th>1</th>\n",
       "      <td>1</td>\n",
       "      <td>11305</td>\n",
       "      <td>37174</td>\n",
       "    </tr>\n",
       "    <tr>\n",
       "      <th>2</th>\n",
       "      <td>1</td>\n",
       "      <td>11557</td>\n",
       "      <td>34173</td>\n",
       "    </tr>\n",
       "    <tr>\n",
       "      <th>3</th>\n",
       "      <td>1</td>\n",
       "      <td>8717</td>\n",
       "      <td>12986</td>\n",
       "    </tr>\n",
       "    <tr>\n",
       "      <th>4</th>\n",
       "      <td>1</td>\n",
       "      <td>33114</td>\n",
       "      <td>12716</td>\n",
       "    </tr>\n",
       "  </tbody>\n",
       "</table>\n",
       "</div>"
      ],
      "text/plain": [
       "   goodreads_book_id  tag_id   count\n",
       "0                  1   30574  167697\n",
       "1                  1   11305   37174\n",
       "2                  1   11557   34173\n",
       "3                  1    8717   12986\n",
       "4                  1   33114   12716"
      ]
     },
     "execution_count": 4,
     "metadata": {},
     "output_type": "execute_result"
    }
   ],
   "source": [
    "book_tags = pd.read_csv('book_tags.csv', encoding = 'ISO-8859-1')\n",
    "book_tags.head()"
   ]
  },
  {
   "cell_type": "code",
   "execution_count": 5,
   "metadata": {},
   "outputs": [
    {
     "name": "stdout",
     "output_type": "stream",
     "text": [
      "       tag_id    tag_name\n",
      "34247   34247   Ｃhildrens\n",
      "34248   34248   Ｆａｖｏｒｉｔｅｓ\n",
      "34249   34249       Ｍａｎｇａ\n",
      "34250   34250      ＳＥＲＩＥＳ\n",
      "34251   34251  ｆａｖｏｕｒｉｔｅｓ\n"
     ]
    }
   ],
   "source": [
    "tags = pd.read_csv('tags.csv')\n",
    "# drop the 'to-read', 'favorites' and 'currently-reading' tag\n",
    "tags.drop([30574, 11557, 8717], inplace = True)\n",
    "print(tags.tail())"
   ]
  },
  {
   "cell_type": "code",
   "execution_count": 6,
   "metadata": {},
   "outputs": [
    {
     "data": {
      "text/plain": [
       "(970272, 4)"
      ]
     },
     "execution_count": 6,
     "metadata": {},
     "output_type": "execute_result"
    }
   ],
   "source": [
    "book_tags_df = pd.merge(book_tags, tags, on = 'tag_id', how = 'inner').sort_values(by = 'count', ascending = False)\n",
    "\n",
    "#row = [i for i, row in book_tags_df.iterrows() if row['tag_name'] == 'to-read']\n",
    "#book_tags_df.drop(row, inplace = True)\n",
    "book_tags_df.head()\n",
    "book_tags_df.shape"
   ]
  },
  {
   "cell_type": "code",
   "execution_count": 7,
   "metadata": {},
   "outputs": [],
   "source": [
    "#to_read = pd.read_csv('to_read.csv')\n",
    "#to_read.head()"
   ]
  },
  {
   "cell_type": "code",
   "execution_count": 8,
   "metadata": {},
   "outputs": [],
   "source": [
    "# author based recommender\n",
    "\n",
    "tfidf = TfidfVectorizer(analyzer = 'word', ngram_range = (1, 3), min_df = 0, stop_words = 'english')\n",
    "#tfidf = TfidfVectorizer(stop_words = 'english')\n",
    "tfidf_matrix = tfidf.fit_transform(books['authors'])\n",
    "tfidf_matrix.shape\n",
    "cosine_sim = linear_kernel(tfidf_matrix, tfidf_matrix)"
   ]
  },
  {
   "cell_type": "code",
   "execution_count": 9,
   "metadata": {
    "collapsed": true
   },
   "outputs": [],
   "source": [
    "#Construct a reverse map of indices and book titles\n",
    "indices = pd.Series(books.index, index = books['title']).drop_duplicates()"
   ]
  },
  {
   "cell_type": "code",
   "execution_count": 10,
   "metadata": {
    "collapsed": true
   },
   "outputs": [],
   "source": [
    "# Function that takes in book titles as input and outputs most similar books\n",
    "def get_recommendations(title, cosine_sim = cosine_sim):\n",
    "    \n",
    "    idx = indices[title]\n",
    "    sim_scores = list(enumerate(cosine_sim[idx]))\n",
    "    sim_scores = sorted(sim_scores, key = lambda x: x[1], reverse = True)\n",
    "    sim_scores = sim_scores[1:11]\n",
    "    book_indices = [i[0] for i in sim_scores]\n",
    "    return books['title'].iloc[book_indices]"
   ]
  },
  {
   "cell_type": "code",
   "execution_count": 11,
   "metadata": {},
   "outputs": [
    {
     "data": {
      "text/plain": [
       "0               The Hunger Games (The Hunger Games, #1)\n",
       "1     Harry Potter and the Sorcerer's Stone (Harry P...\n",
       "2                               Twilight (Twilight, #1)\n",
       "3                                 To Kill a Mockingbird\n",
       "4                                      The Great Gatsby\n",
       "5                                The Fault in Our Stars\n",
       "6                                            The Hobbit\n",
       "7                                The Catcher in the Rye\n",
       "8                 Angels & Demons  (Robert Langdon, #1)\n",
       "9                                   Pride and Prejudice\n",
       "10                                      The Kite Runner\n",
       "11                            Divergent (Divergent, #1)\n",
       "12                                                 1984\n",
       "13                                          Animal Farm\n",
       "14                            The Diary of a Young Girl\n",
       "15     The Girl with the Dragon Tattoo (Millennium, #1)\n",
       "16                 Catching Fire (The Hunger Games, #2)\n",
       "17    Harry Potter and the Prisoner of Azkaban (Harr...\n",
       "18    The Fellowship of the Ring (The Lord of the Ri...\n",
       "19                    Mockingjay (The Hunger Games, #3)\n",
       "Name: title, dtype: object"
      ]
     },
     "execution_count": 11,
     "metadata": {},
     "output_type": "execute_result"
    }
   ],
   "source": [
    "books['title'].head(20)"
   ]
  },
  {
   "cell_type": "code",
   "execution_count": 12,
   "metadata": {
    "collapsed": true
   },
   "outputs": [],
   "source": [
    "# tag based recommender\n",
    "\n",
    "books_with_tags = pd.merge(books, book_tags_df, left_on = 'book_id', right_on = 'goodreads_book_id', how = 'inner')\n",
    "books_with_tags['tag_name'] = books_with_tags['tag_name'].astype('category')\n",
    "#books_with_tags.info()\n",
    "tfidf1 = TfidfVectorizer(analyzer = 'word', ngram_range = (1, 3), min_df = 0, stop_words = 'english')\n",
    "tfidf_matrix1 = tfidf1.fit_transform(books_with_tags['tag_name'].head(20000))\n",
    "cosine_sim1 = linear_kernel(tfidf_matrix1, tfidf_matrix1)"
   ]
  },
  {
   "cell_type": "code",
   "execution_count": 13,
   "metadata": {},
   "outputs": [
    {
     "data": {
      "text/html": [
       "<div>\n",
       "<style scoped>\n",
       "    .dataframe tbody tr th:only-of-type {\n",
       "        vertical-align: middle;\n",
       "    }\n",
       "\n",
       "    .dataframe tbody tr th {\n",
       "        vertical-align: top;\n",
       "    }\n",
       "\n",
       "    .dataframe thead th {\n",
       "        text-align: right;\n",
       "    }\n",
       "</style>\n",
       "<table border=\"1\" class=\"dataframe\">\n",
       "  <thead>\n",
       "    <tr style=\"text-align: right;\">\n",
       "      <th></th>\n",
       "      <th>book_id</th>\n",
       "      <th>tag_name</th>\n",
       "    </tr>\n",
       "  </thead>\n",
       "  <tbody>\n",
       "    <tr>\n",
       "      <th>0</th>\n",
       "      <td>1</td>\n",
       "      <td>fantasy young-adult fiction harry-potter books...</td>\n",
       "    </tr>\n",
       "    <tr>\n",
       "      <th>1</th>\n",
       "      <td>2</td>\n",
       "      <td>fantasy children children-s all-time-favorites...</td>\n",
       "    </tr>\n",
       "    <tr>\n",
       "      <th>2</th>\n",
       "      <td>3</td>\n",
       "      <td>fantasy young-adult fiction harry-potter books...</td>\n",
       "    </tr>\n",
       "    <tr>\n",
       "      <th>3</th>\n",
       "      <td>5</td>\n",
       "      <td>fantasy young-adult fiction harry-potter books...</td>\n",
       "    </tr>\n",
       "    <tr>\n",
       "      <th>4</th>\n",
       "      <td>6</td>\n",
       "      <td>fantasy young-adult fiction harry-potter owned...</td>\n",
       "    </tr>\n",
       "  </tbody>\n",
       "</table>\n",
       "</div>"
      ],
      "text/plain": [
       "   book_id                                           tag_name\n",
       "0        1  fantasy young-adult fiction harry-potter books...\n",
       "1        2  fantasy children children-s all-time-favorites...\n",
       "2        3  fantasy young-adult fiction harry-potter books...\n",
       "3        5  fantasy young-adult fiction harry-potter books...\n",
       "4        6  fantasy young-adult fiction harry-potter owned..."
      ]
     },
     "execution_count": 13,
     "metadata": {},
     "output_type": "execute_result"
    }
   ],
   "source": [
    "# tag and author based recommender\n",
    "\n",
    "temp_df = books_with_tags.groupby('book_id')['tag_name'].apply(' '.join).reset_index()\n",
    "temp_df.head()"
   ]
  },
  {
   "cell_type": "code",
   "execution_count": 14,
   "metadata": {
    "collapsed": true
   },
   "outputs": [],
   "source": [
    "books0 = pd.merge(books, temp_df, on = 'book_id', how = 'inner')\n",
    "#books0.head()"
   ]
  },
  {
   "cell_type": "code",
   "execution_count": 15,
   "metadata": {
    "collapsed": true
   },
   "outputs": [],
   "source": [
    "# function to convert all strings to lower case and strip names of spaces\n",
    "def clean_data(x):\n",
    "    if isinstance(x, list):\n",
    "        return [str.lower(i.replace(' ', '')) for i in x]\n",
    "    else:\n",
    "        if isinstance(x, str):\n",
    "            return str.lower(x.replace(' ', ''))\n",
    "        else:\n",
    "            return ''"
   ]
  },
  {
   "cell_type": "code",
   "execution_count": 16,
   "metadata": {},
   "outputs": [
    {
     "data": {
      "text/plain": [
       "0                                          suzannecollins\n",
       "1                               j.k.rowling,marygrandprì©\n",
       "2                                          stepheniemeyer\n",
       "3                                               harperlee\n",
       "4                                       f.scottfitzgerald\n",
       "5                                               johngreen\n",
       "6                                           j.r.r.tolkien\n",
       "7                                            j.d.salinger\n",
       "8                                                danbrown\n",
       "9                                              janeausten\n",
       "10                                         khaledhosseini\n",
       "11                                           veronicaroth\n",
       "12                   georgeorwell,erichfromm,celì¢lìïster\n",
       "13                                           georgeorwell\n",
       "14      annefrank,eleanorroosevelt,b.m.mooyaart-doubleday\n",
       "15                                stieglarsson,regkeeland\n",
       "16                                         suzannecollins\n",
       "17                    j.k.rowling,marygrandprì©,rufusbeck\n",
       "18                                          j.r.r.tolkien\n",
       "19                                         suzannecollins\n",
       "20                              j.k.rowling,marygrandprì©\n",
       "21                                            alicesebold\n",
       "22                              j.k.rowling,marygrandprì©\n",
       "23                              j.k.rowling,marygrandprì©\n",
       "24                              j.k.rowling,marygrandprì©\n",
       "25                                               danbrown\n",
       "26                              j.k.rowling,marygrandprì©\n",
       "27                                         williamgolding\n",
       "28                       williamshakespeare,robertjackson\n",
       "29                                           gillianflynn\n",
       "                              ...                        \n",
       "9631                                             amimckay\n",
       "9632                                           melodyanne\n",
       "9633                                      kurtvonnegutjr.\n",
       "9634                              johnm.gottman,nansilver\n",
       "9635                                            loislowry\n",
       "9636                                         davidgemmell\n",
       "9637                                        mariav.snyder\n",
       "9638                                            annetyler\n",
       "9639                              yukiomishima,johnnathan\n",
       "9640                                          wilbursmith\n",
       "9641                                          deeannegist\n",
       "9642                                        jefferydeaver\n",
       "9643                                     karenmariemoning\n",
       "9644                                            kazuekato\n",
       "9645                                     petermatthiessen\n",
       "9646                  steveperry,tomclancy,stevepieczenik\n",
       "9647                                      terriblackstock\n",
       "9648                                         irisjohansen\n",
       "9649                                            johnrawls\n",
       "9650                                          quinnloftis\n",
       "9651                                        oscarhijuelos\n",
       "9652                                              benokri\n",
       "9653                                         milescameron\n",
       "9654                                          ianmortimer\n",
       "9655                         michaelbuckley,peterferguson\n",
       "9656                                         ilonaandrews\n",
       "9657                                         roberta.caro\n",
       "9658                                       patricko'brian\n",
       "9659                                       peggyorenstein\n",
       "9660                                           johnkeegan\n",
       "Name: authors, Length: 9661, dtype: object"
      ]
     },
     "execution_count": 16,
     "metadata": {},
     "output_type": "execute_result"
    }
   ],
   "source": [
    "books0['authors'].apply(clean_data)"
   ]
  },
  {
   "cell_type": "code",
   "execution_count": 17,
   "metadata": {
    "collapsed": true
   },
   "outputs": [],
   "source": [
    "def create_soup(x):\n",
    "    return ''.join(x['authors']) + '' + ''.join(x['tag_name'])"
   ]
  },
  {
   "cell_type": "code",
   "execution_count": 18,
   "metadata": {
    "collapsed": true
   },
   "outputs": [],
   "source": [
    "books0['soup'] = books0.apply(create_soup, axis = 1)"
   ]
  },
  {
   "cell_type": "code",
   "execution_count": 19,
   "metadata": {
    "collapsed": true
   },
   "outputs": [],
   "source": [
    "# Use the CountVectorizer() instead of TF-IDF. \n",
    "# This is because one do not want to down-weight the presence of an author if he or she has written relatively more books.\n",
    "# But will still fit_transform a tfidfvectorizer for comparison \n",
    "from sklearn.feature_extraction.text import CountVectorizer\n",
    "from sklearn.metrics.pairwise import cosine_similarity\n",
    "\n",
    "cv = CountVectorizer(analyzer = 'word', ngram_range=(1, 3), min_df = 0, stop_words = 'english')\n",
    "count_matrix = cv.fit_transform(books0['soup'])\n",
    "cosine_sim0 = cosine_similarity(count_matrix, count_matrix)\n",
    "#books0.reset_index()"
   ]
  },
  {
   "cell_type": "code",
   "execution_count": 20,
   "metadata": {
    "collapsed": true
   },
   "outputs": [],
   "source": [
    "tfidf2 = TfidfVectorizer(analyzer = 'word', ngram_range=(1, 3), min_df = 0, stop_words = 'english')\n",
    "tfidf_matrix2 = tfidf2.fit_transform(books0['soup'])\n",
    "cosine_sim2 = linear_kernel(tfidf_matrix2, tfidf_matrix2)"
   ]
  },
  {
   "cell_type": "code",
   "execution_count": 21,
   "metadata": {},
   "outputs": [
    {
     "name": "stdout",
     "output_type": "stream",
     "text": [
      "author-based recommendations:\n",
      "1183                                  Tender Is the Night\n",
      "2303                                This Side of Paradise\n",
      "3254                             The Beautiful and Damned\n",
      "3640                  The Curious Case of Benjamin Button\n",
      "7408                                    The Short Stories\n",
      "8683    The Billionaire's Obsession ~ Simon (The Billi...\n",
      "1279                                           The Aeneid\n",
      "922     The Alchemyst (The Secrets of the Immortal Nic...\n",
      "1633    The Magician (The Secrets of the Immortal Nich...\n",
      "2016    The Sorceress (The Secrets of the Immortal Nic...\n",
      "Name: title, dtype: object \n",
      "\n",
      "tag-based recommendations:\n",
      "97         The Girl Who Played with Fire (Millennium, #2)\n",
      "197                                      The Color Purple\n",
      "590       The Absolutely True Diary of a Part-Time Indian\n",
      "813                          Tempted (House of Night, #6)\n",
      "1095    America (The Book): A Citizen's Guide to Democ...\n",
      "1204      Hard-Boiled Wonderland and the End of the World\n",
      "1293    god is Not Great: How Religion Poisons Everything\n",
      "1598                                           Night Road\n",
      "1699                            A Tale for the Time Being\n",
      "1799                                                 Ubik\n",
      "Name: title, dtype: object \n",
      "\n",
      "author and tag based recommendations using CountVectorizer:\n",
      "7        The Catcher in the Rye\n",
      "31              Of Mice and Men\n",
      "27            Lord of the Flies\n",
      "3         To Kill a Mockingbird\n",
      "129     The Old Man and the Sea\n",
      "13                  Animal Farm\n",
      "1185        The Glass Menagerie\n",
      "130         The Grapes of Wrath\n",
      "781               The Awakening\n",
      "522     The Things They Carried\n",
      "Name: title, dtype: object \n",
      "\n",
      "author and tag based recommendations using tf-idf:\n",
      "7                  The Catcher in the Rye\n",
      "31                        Of Mice and Men\n",
      "781                         The Awakening\n",
      "57     The Adventures of Huckleberry Finn\n",
      "130                   The Grapes of Wrath\n",
      "386                          The Crucible\n",
      "27                      Lord of the Flies\n",
      "649                     Uncle Tom's Cabin\n",
      "129               The Old Man and the Sea\n",
      "128       One Flew Over the Cuckoo's Nest\n",
      "Name: title, dtype: object\n"
     ]
    }
   ],
   "source": [
    "print('author-based recommendations:')\n",
    "print(get_recommendations('The Great Gatsby'), '\\n')\n",
    "print('tag-based recommendations:')\n",
    "print(get_recommendations('The Great Gatsby', cosine_sim1), '\\n')\n",
    "print('author and tag based recommendations using CountVectorizer:')\n",
    "print(get_recommendations('The Great Gatsby', cosine_sim0), '\\n')\n",
    "print('author and tag based recommendations using tf-idf:')\n",
    "print(get_recommendations('The Great Gatsby', cosine_sim2))"
   ]
  },
  {
   "cell_type": "markdown",
   "metadata": {},
   "source": [
    "Author-based and tag-based recommenders have awful performance obviously. Although, when it comes to tag and author based recommender, the results of countvectorizer and tfidfvectorizer only have relatively small differences."
   ]
  },
  {
   "cell_type": "code",
   "execution_count": 22,
   "metadata": {},
   "outputs": [
    {
     "data": {
      "text/html": [
       "<div>\n",
       "<style scoped>\n",
       "    .dataframe tbody tr th:only-of-type {\n",
       "        vertical-align: middle;\n",
       "    }\n",
       "\n",
       "    .dataframe tbody tr th {\n",
       "        vertical-align: top;\n",
       "    }\n",
       "\n",
       "    .dataframe thead th {\n",
       "        text-align: right;\n",
       "    }\n",
       "</style>\n",
       "<table border=\"1\" class=\"dataframe\">\n",
       "  <thead>\n",
       "    <tr style=\"text-align: right;\">\n",
       "      <th></th>\n",
       "      <th>CountVectorizer</th>\n",
       "      <th>TfidfVectorizer</th>\n",
       "    </tr>\n",
       "  </thead>\n",
       "  <tbody>\n",
       "    <tr>\n",
       "      <th>0</th>\n",
       "      <td>Lord of the Flies</td>\n",
       "      <td>1984</td>\n",
       "    </tr>\n",
       "    <tr>\n",
       "      <th>1</th>\n",
       "      <td>The Great Gatsby</td>\n",
       "      <td>The Great Gatsby</td>\n",
       "    </tr>\n",
       "    <tr>\n",
       "      <th>2</th>\n",
       "      <td>1984</td>\n",
       "      <td>Animal Farm / 1984</td>\n",
       "    </tr>\n",
       "    <tr>\n",
       "      <th>3</th>\n",
       "      <td>Of Mice and Men</td>\n",
       "      <td>Keep the Aspidistra Flying</td>\n",
       "    </tr>\n",
       "    <tr>\n",
       "      <th>4</th>\n",
       "      <td>Brave New World</td>\n",
       "      <td>Lord of the Flies</td>\n",
       "    </tr>\n",
       "    <tr>\n",
       "      <th>5</th>\n",
       "      <td>The Catcher in the Rye</td>\n",
       "      <td>Cry, the Beloved Country</td>\n",
       "    </tr>\n",
       "    <tr>\n",
       "      <th>6</th>\n",
       "      <td>Fahrenheit 451</td>\n",
       "      <td>Of Mice and Men</td>\n",
       "    </tr>\n",
       "    <tr>\n",
       "      <th>7</th>\n",
       "      <td>The Old Man and the Sea</td>\n",
       "      <td>The Fall of the House of Usher</td>\n",
       "    </tr>\n",
       "    <tr>\n",
       "      <th>8</th>\n",
       "      <td>Silas Marner</td>\n",
       "      <td>A Modest Proposal</td>\n",
       "    </tr>\n",
       "    <tr>\n",
       "      <th>9</th>\n",
       "      <td>To Kill a Mockingbird</td>\n",
       "      <td>A Modest Proposal and Other Satirical Works</td>\n",
       "    </tr>\n",
       "  </tbody>\n",
       "</table>\n",
       "</div>"
      ],
      "text/plain": [
       "           CountVectorizer                              TfidfVectorizer\n",
       "0        Lord of the Flies                                         1984\n",
       "1         The Great Gatsby                             The Great Gatsby\n",
       "2                     1984                           Animal Farm / 1984\n",
       "3          Of Mice and Men                   Keep the Aspidistra Flying\n",
       "4          Brave New World                            Lord of the Flies\n",
       "5   The Catcher in the Rye                     Cry, the Beloved Country\n",
       "6           Fahrenheit 451                              Of Mice and Men\n",
       "7  The Old Man and the Sea               The Fall of the House of Usher\n",
       "8             Silas Marner                            A Modest Proposal\n",
       "9    To Kill a Mockingbird  A Modest Proposal and Other Satirical Works"
      ]
     },
     "execution_count": 22,
     "metadata": {},
     "output_type": "execute_result"
    }
   ],
   "source": [
    "#print('author-based recommendations:')\n",
    "#print(get_recommendations('Brave New World'), '\\n')\n",
    "#print('tag-based recommendations:')\n",
    "#print(get_recommendations('Brave New World', cosine_sim1), '\\n')\n",
    "#print('author and tag based recommendations using CountVectorizer:')\n",
    "#print(get_recommendations('Brave New World', cosine_sim0), '\\n')\n",
    "#print('author and tag based recommendations using TfidfVectorizer:')\n",
    "#print(get_recommendations('Brave New World', cosine_sim2))\n",
    "\n",
    "dict = {'CountVectorizer': [x for i,x in enumerate(get_recommendations('Animal Farm', cosine_sim0))], \n",
    "        'TfidfVectorizer': [x for i,x in enumerate(get_recommendations('Animal Farm', cosine_sim2))]}\n",
    "results = pd.DataFrame(data = dict)\n",
    "results"
   ]
  },
  {
   "cell_type": "code",
   "execution_count": null,
   "metadata": {
    "collapsed": true
   },
   "outputs": [],
   "source": []
  }
 ],
 "metadata": {
  "kernelspec": {
   "display_name": "Python 3",
   "language": "python",
   "name": "python3"
  },
  "language_info": {
   "codemirror_mode": {
    "name": "ipython",
    "version": 3
   },
   "file_extension": ".py",
   "mimetype": "text/x-python",
   "name": "python",
   "nbconvert_exporter": "python",
   "pygments_lexer": "ipython3",
   "version": "3.6.8"
  }
 },
 "nbformat": 4,
 "nbformat_minor": 2
}
